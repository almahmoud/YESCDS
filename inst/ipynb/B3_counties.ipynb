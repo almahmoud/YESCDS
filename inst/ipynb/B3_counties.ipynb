{
 "cells": [
  {
   "cell_type": "markdown",
   "id": "perfect-edmonton",
   "metadata": {},
   "source": [
    "# Cancer rates in Massachusetts counties, tabulated"
   ]
  },
  {
   "cell_type": "code",
   "execution_count": null,
   "id": "agreed-china",
   "metadata": {},
   "outputs": [],
   "source": [
    "datatable(MA_cancer_rate_table())"
   ]
  },
  {
   "cell_type": "markdown",
   "id": "necessary-genesis",
   "metadata": {},
   "source": [
    "# Mapping the rates"
   ]
  },
  {
   "cell_type": "code",
   "execution_count": null,
   "id": "healthy-postcard",
   "metadata": {},
   "outputs": [],
   "source": [
    "mass_cancer_map()"
   ]
  },
  {
   "cell_type": "markdown",
   "id": "middle-proposal",
   "metadata": {},
   "source": [
    "# Addressing uncertainty in the rates\n",
    "\n",
    "The reported rates are statistics collected over time and are adjusted\n",
    "using a model for age distribution in the US. The counts on which the\n",
    "reported rates are imprecise. Therefore “confidence limits” are produced\n",
    "with the rate estimates.\n",
    "\n",
    "Here are the prostate cancer rates in Massachusetts counties, plotted\n",
    "with confidence limits."
   ]
  },
  {
   "cell_type": "code",
   "execution_count": null,
   "id": "blank-vitamin",
   "metadata": {},
   "outputs": [],
   "source": [
    "plotwci(MA_cancer_rate_table(\"prostate\"), ylim=c(90,270))"
   ]
  },
  {
   "cell_type": "markdown",
   "id": "catholic-evans",
   "metadata": {},
   "source": [
    "One message from this display is that prostate cancer in Nantucket\n",
    "county has an estimated age-adjusted incidence in 2014-2018 of about 200\n",
    "cases per 100000 men, but the actual rate may be lower or higher. The\n",
    "uncertainty of the estimate arises from the relatively small population\n",
    "of Nantucket county.\n",
    "\n",
    "# Exercises\n",
    "\n",
    "B.3.1 What are the reported population sizes for Middlesex and Nantucket\n",
    "counties?\n",
    "\n",
    "B.3.2 Run the following chunk to produce a different representation of\n",
    "incidence rates for cancers of lung and bronchus in California counties:"
   ]
  },
  {
   "cell_type": "code",
   "execution_count": null,
   "id": "headed-console",
   "metadata": {},
   "outputs": [],
   "source": [
    "ordered_seg_cal()"
   ]
  },
  {
   "cell_type": "markdown",
   "id": "starting-geography",
   "metadata": {},
   "source": [
    "Two statistics are presented for the US as a whole and for the entire\n",
    "state of California.\n",
    "\n",
    "B.3.3 True or False: We are fairly confident that the incidence of\n",
    "cancers of lung and bronchus in San Joaquin county is lower than that of\n",
    "the US as a whole.\n",
    "\n",
    "The midpoint of the plotted interval is the estimated incidence rate.\n",
    "\n",
    "B.3.4 Which California counties have incidence rates that are around\n",
    "half that of the US as a whole?\n",
    "\n",
    "# Answers\n",
    "\n",
    "B.3.1\n",
    "\n",
    "B.3.2\n",
    "\n",
    "B.3.3\n",
    "\n",
    "B.3.4"
   ]
  }
 ],
 "metadata": {  "kernelspec": {   "display_name": "R",   "language": "R",   "name": "ir"  }},
 "nbformat": 4,
 "nbformat_minor": 5
}
