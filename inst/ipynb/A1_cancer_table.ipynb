{
 "cells": [
  {
   "cell_type": "markdown",
   "id": "lesbian-algebra",
   "metadata": {},
   "source": [
    "# Cancer experiences: a personal view\n",
    "\n",
    "In 60 years of life I have been cancer-free, but many family members and\n",
    "friends have had to address the disease.\n",
    "\n",
    "I prepared a table with some information on contacts whose cancer\n",
    "experiences I know of:"
   ]
  },
  {
   "cell_type": "code",
   "execution_count": null,
   "id": "subtle-fossil",
   "metadata": {},
   "outputs": [],
   "source": [
    "datatable(vjc_cancer_net)"
   ]
  },
  {
   "cell_type": "markdown",
   "id": "dominant-retailer",
   "metadata": {},
   "source": [
    "Note that the table can be sorted and searched. You can also alter the\n",
    "number of records presented.\n",
    "\n",
    "# Questions\n",
    "\n",
    "A.1.1. Why would a person make a table like this?\n",
    "\n",
    "A.1.2. How could this table be made more informative?\n",
    "\n",
    "# Answers\n",
    "\n",
    "A.1.1.\n",
    "\n",
    "A.1.2."
   ]
  }
 ],
 "metadata": {  "kernelspec": {   "display_name": "R",   "language": "R",   "name": "ir"  }},
 "nbformat": 4,
 "nbformat_minor": 5
}
