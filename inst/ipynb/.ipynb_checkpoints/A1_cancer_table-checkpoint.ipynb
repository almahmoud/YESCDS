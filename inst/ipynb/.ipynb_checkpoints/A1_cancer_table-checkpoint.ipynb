{
 "cells": [
  {
   "cell_type": "markdown",
   "id": "a1f918d2",
   "metadata": {},
   "source": [
    "# Cancer experiences: a personal view\n",
    "\n",
    "In 60 years of life I have been cancer-free, but many family members and\n",
    "friends have had to address the disease.\n",
    "\n",
    "I prepared a table with some information on contacts whose cancer\n",
    "experiences I know of:"
   ]
  },
  {
   "cell_type": "code",
   "execution_count": 1,
   "id": "4674e390",
   "metadata": {},
   "outputs": [
    {
     "ename": "ERROR",
     "evalue": "Error in datatable(vjc_cancer_net): could not find function \"datatable\"\n",
     "output_type": "error",
     "traceback": [
      "Error in datatable(vjc_cancer_net): could not find function \"datatable\"\nTraceback:\n"
     ]
    }
   ],
   "source": [
    "datatable(vjc_cancer_net)"
   ]
  },
  {
   "cell_type": "markdown",
   "id": "de44b41c",
   "metadata": {},
   "source": [
    "Note that the table can be sorted and searched. You can also alter the\n",
    "number of records presented.\n",
    "\n",
    "# Questions\n",
    "\n",
    "1.  Why would a person make a table like this?\n",
    "2.  How could this table be made more informative?"
   ]
  }
 ],
 "metadata": {
  "kernelspec": {
   "display_name": "R",
   "language": "R",
   "name": "ir"
  },
  "language_info": {
   "codemirror_mode": "r",
   "file_extension": ".r",
   "mimetype": "text/x-r-source",
   "name": "R",
   "pygments_lexer": "r",
   "version": "4.1.2"
  }
 },
 "nbformat": 4,
 "nbformat_minor": 5
}
