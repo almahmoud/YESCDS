{
 "cells": [
  {
   "cell_type": "markdown",
   "id": "8fae9e60",
   "metadata": {},
   "source": [
    "# Fair comparisons\n",
    "\n",
    "Two basic types of comparison are of interest in cancer epidemiology:\n",
    "\n",
    "-   Do cancer rates differ between geographic regions (counties, states,\n",
    "    countries, …)?\n",
    "-   Do cancer rates change over time?\n",
    "\n",
    "Because cancer risks increaase generally as people age, comparisons of\n",
    "cancer risk should account for the “age structure” in the regions or\n",
    "time periods being compared.\n",
    "\n",
    "# Crude rate examples\n",
    "\n",
    "Crude rates ignore age structure. Here are some examples of mortality\n",
    "rates taken (with rounding) from a Statistics Canada web site."
   ]
  },
  {
   "cell_type": "code",
   "execution_count": null,
   "id": "18ec9c62",
   "metadata": {},
   "outputs": [],
   "source": [
    "canada_crude[6,4] = NA\n",
    "canada_crude"
   ]
  },
  {
   "cell_type": "markdown",
   "id": "3793bbe1",
   "metadata": {},
   "source": [
    "Question: What is the (rounded) crude mortality rate for the older age\n",
    "group in 2011?\n",
    "\n",
    "# Age structure\n",
    "\n",
    "The “age structure” of a population is the percentage of population\n",
    "reporting ages in different groups. Usually the grouping is finer than\n",
    "what we are using in this example.\n",
    "\n",
    "Statistics Canada proposed using the age structure of Canada in 1991 as\n",
    "a reference for standardization. In 1991, 62% of Canadians were age 0 to\n",
    "39y, and 38% were 40y and older.\n",
    "\n",
    "We use these percentages to adjust the crude rates.\n",
    "\n",
    "# Adjusted rate computation\n",
    "\n",
    "For the year 2000, we take the crude rates of 7 and 450 (per 100000\n",
    "population) and reweight and sum:"
   ]
  },
  {
   "cell_type": "code",
   "execution_count": null,
   "id": "c26cf584",
   "metadata": {},
   "outputs": [],
   "source": [
    "7 * .62 + 450 * .38"
   ]
  },
  {
   "cell_type": "markdown",
   "id": "164edd10",
   "metadata": {},
   "source": [
    "yielding 175.3 per 100000 “standard population”. This is the age\n",
    "standardized mortality rate in the year 2000.\n",
    "\n",
    "Question: What is the age standardized mortality rate for 2011?\n",
    "\n",
    "Question: What can you say about the cancer mortality trend in Canada\n",
    "between 2000 and 2011?"
   ]
  }
 ],
 "metadata": {
  "kernelspec": {
   "display_name": "R",
   "language": "R",
   "name": "ir"
  },
  "language_info": {
   "codemirror_mode": "r",
   "file_extension": ".r",
   "mimetype": "text/x-r-source",
   "name": "R",
   "pygments_lexer": "r",
   "version": "4.2.0"
  }
 },
 "nbformat": 4,
 "nbformat_minor": 5
}
