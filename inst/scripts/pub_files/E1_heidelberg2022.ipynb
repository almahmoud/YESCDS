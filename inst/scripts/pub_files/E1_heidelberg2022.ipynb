{
 "cells": [
  {
   "cell_type": "markdown",
   "id": "japanese-humanity",
   "metadata": {},
   "source": [
    "# Introduction: Grow the genomics data science workforce\n",
    "\n",
    "![GDSCN schema](images/gdscnSchema.jpg)\n",
    "\n",
    "# Bioconductor as a vehicle\n",
    "\n",
    "![Bioc triangle](images/triangle.jpg)\n",
    "\n",
    "# R packages and r markdown as instructional assets\n",
    "\n",
    "![facepage](images/yespkgdown.jpg)\n",
    "\n",
    "# Galaxy deployed in NSF Jetstream2 as the presentation/experience platform\n",
    "\n",
    "![yescure](images/yescure.jpg)"
   ]
  }
 ],
 "metadata": {  "kernelspec": {   "display_name": "R",   "language": "R",   "name": "ir"  }},
 "nbformat": 4,
 "nbformat_minor": 5
}
