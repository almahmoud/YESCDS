{
 "cells": [
  {
   "cell_type": "markdown",
   "id": "excessive-latin",
   "metadata": {},
   "source": [
    "# Introductory Notebook\n",
    "\n",
    "## Creating R functions\n",
    "\n",
    "The rest of the course will use advanced functions created for analyzing\n",
    "and visualizing data. These complex functions are simply an amalgamation\n",
    "of other smaller functions, webbed together by a cohesive logic. Each\n",
    "function has a specific purpose, with a desired input and output.\n",
    "\n",
    "### Exercises\n",
    "\n",
    "A.0.1 Create a function named `is_even` that returns TRUE when its input\n",
    "`x` is even, and FALSE when its input `x` is odd."
   ]
  },
  {
   "cell_type": "code",
   "execution_count": null,
   "id": "wireless-elimination",
   "metadata": {},
   "outputs": [],
   "source": [
    "Replace this text with your code"
   ]
  },
  {
   "cell_type": "markdown",
   "id": "rubber-inventory",
   "metadata": {},
   "source": [
    "A.0.2 Assuming you have a function named `is_even` that works properly,\n",
    "think of some ways to write a function `is_odd` using the former\n",
    "function."
   ]
  },
  {
   "cell_type": "code",
   "execution_count": null,
   "id": "interior-fifty",
   "metadata": {},
   "outputs": [],
   "source": [
    "Replace this text with your code"
   ]
  },
  {
   "cell_type": "markdown",
   "id": "incomplete-minneapolis",
   "metadata": {},
   "source": [
    "## Finding R packages\n",
    "\n",
    "Beyond writing functions yourself, a large part of data science is\n",
    "finding functions already written and optimized by others. While\n",
    "understanding how to code is important in order to extend existing\n",
    "algorithms and bring them together for your analysis purposes, it is\n",
    "rare to create new algorithms from scratch rather than build on the\n",
    "existing software ecosystems that have been created by other experts and\n",
    "improved by the community over the years. Bioconductor itself manages a\n",
    "large software repository for R packages related to data science,\n",
    "especially for Bioinformatics. CRAN is the default software repository\n",
    "for the R programming language. Many other packages are also publicly\n",
    "available on github.com, a repository for open source software. Finding\n",
    "packages is often a combination of using various online resources and\n",
    "looking through the latest scientific publications in bioinformatics\n",
    "journals.\n",
    "\n",
    "### Exercises\n",
    "\n",
    "A.0.3 Find interesting packages that seem useful for your data science\n",
    "interests. These could be from a specific biological field (genomics,\n",
    "rna analysis, etc…), or other scientific fields (computational\n",
    "chemistry, astronomy, etc…). HINT: Use Google as a starting point if you\n",
    "have an idea of a specific type of package you are looking for, or\n",
    "browse packages at bioconductor.org until one peaks your interest."
   ]
  },
  {
   "cell_type": "code",
   "execution_count": null,
   "id": "changed-sellers",
   "metadata": {},
   "outputs": [],
   "source": [
    "Write a simple print function that tells us what package you chose, and why it peaked your interest. Can you see yourself coming back to this package in later years?"
   ]
  }
 ],
 "metadata": {  "kernelspec": {   "display_name": "R",   "language": "R",   "name": "ir"  }},
 "nbformat": 4,
 "nbformat_minor": 5
}
