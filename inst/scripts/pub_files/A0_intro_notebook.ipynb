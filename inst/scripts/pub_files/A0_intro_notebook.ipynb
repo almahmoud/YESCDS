{
 "cells": [
  {
   "cell_type": "markdown",
   "id": "functional-assets",
   "metadata": {},
   "source": [
    "# Introduction to R\n",
    "\n",
    "## Creating R functions\n",
    "\n",
    "The rest of the course will use advanced functions created for analyzing\n",
    "and visualizing data. These complex functions are simply an amalgamation\n",
    "of other smaller functions, webbed together by a cohesive logic. Each\n",
    "function has a specific purpose, with a desired input and output.\n",
    "\n",
    "### Exercises\n",
    "\n",
    "A.0.1 Create a function named `is_even` that returns TRUE when its input\n",
    "`x` is even, and FALSE when its input `x` is odd."
   ]
  },
  {
   "cell_type": "code",
   "execution_count": null,
   "id": "distinct-carol",
   "metadata": {},
   "outputs": [],
   "source": [
    "Replace this text with your code."
   ]
  },
  {
   "cell_type": "markdown",
   "id": "thrown-session",
   "metadata": {},
   "source": [
    "Use the below functions to check your answers."
   ]
  },
  {
   "cell_type": "code",
   "execution_count": null,
   "id": "behind-blackberry",
   "metadata": {},
   "outputs": [],
   "source": [
    "print(is_even(4862))  # Desired output: TRUE\n",
    "print(is_even(7000001))  # Desired output: FALSE"
   ]
  },
  {
   "cell_type": "markdown",
   "id": "innovative-microwave",
   "metadata": {},
   "source": [
    "A.0.2 Assuming you have a function named `is_even` that works properly,\n",
    "think of some ways to write a function `is_odd` using the former\n",
    "function."
   ]
  },
  {
   "cell_type": "code",
   "execution_count": null,
   "id": "atomic-charger",
   "metadata": {},
   "outputs": [],
   "source": [
    "Replace this text with your code. Use the below functions to check your answers."
   ]
  },
  {
   "cell_type": "markdown",
   "id": "casual-intermediate",
   "metadata": {},
   "source": [
    "Use the below functions to check your answers."
   ]
  },
  {
   "cell_type": "code",
   "execution_count": null,
   "id": "personal-terrace",
   "metadata": {},
   "outputs": [],
   "source": [
    "print(is_even(2123))  # Desired output: TRUE\n",
    "print(is_odd(4444))  # Desired output: FALSE"
   ]
  },
  {
   "cell_type": "markdown",
   "id": "further-evans",
   "metadata": {},
   "source": [
    "## Finding R packages\n",
    "\n",
    "Beyond writing functions yourself, a large part of data science is\n",
    "finding functions already written and optimized by others. While\n",
    "understanding how to code is important in order to extend existing\n",
    "algorithms and bring them together for your analysis purposes, it is\n",
    "rare to create new algorithms from scratch rather than build on the\n",
    "existing software ecosystems that have been created by other experts and\n",
    "improved by the community over the years. Bioconductor itself manages a\n",
    "large software repository for R packages related to data science,\n",
    "especially for Bioinformatics. CRAN is the default software repository\n",
    "for the R programming language. Many other packages are also publicly\n",
    "available on github.com, a repository for open source software. Finding\n",
    "packages is often a combination of using various online resources and\n",
    "looking through the latest scientific publications in bioinformatics\n",
    "journals.\n",
    "\n",
    "### Exercises\n",
    "\n",
    "A.0.3 Find interesting packages that seem useful for your data science\n",
    "interests. These could be from a specific biological field (genomics,\n",
    "rna analysis, etc…), or other scientific fields (computational\n",
    "chemistry, astronomy, etc…). HINT: Use Google as a starting point if you\n",
    "have an idea of a specific type of package you are looking for, or\n",
    "browse packages at bioconductor.org until one peaks your interest."
   ]
  },
  {
   "cell_type": "code",
   "execution_count": null,
   "id": "curious-customs",
   "metadata": {},
   "outputs": [],
   "source": [
    "print(\"Write a simple print function that tells us what package you chose, and why it peaked your interest.\n",
    "Can you see yourself coming back to this package in later years?\")"
   ]
  },
  {
   "cell_type": "markdown",
   "id": "classical-background",
   "metadata": {},
   "source": [
    "# Learning about cancer and data\n",
    "\n",
    "Here are some questions that explore your prior understanding of cancer\n",
    "and cancer data. The main purpose of this notebook is to show you how to\n",
    "launch a notebook and submit answers.\n",
    "\n",
    "## Public Resources\n",
    "\n",
    "The National Cancer Institute (NCI) is a branch of the National\n",
    "Institutes of Health. Visit [NCI’s\n",
    "website](https://www.cancer.gov/about-nci/overview) to learn more about\n",
    "NCI’s mission, then answer the questions below to the best of your\n",
    "ability.\n",
    "\n",
    "### Exercises\n",
    "\n",
    "A.0.4 Print TRUE `print(TRUE)` or FALSE `print(FALSE)` after each\n",
    "statement. You may also print an explanation to your answer (eg\n",
    "`print(\"I think it's true based on information I was able to find on the NCI website\")`)\n",
    "\n",
    "A.0.4.1 NCI is funded by federal tax dollars"
   ]
  },
  {
   "cell_type": "code",
   "execution_count": null,
   "id": "square-electric",
   "metadata": {},
   "outputs": [],
   "source": [
    "print()"
   ]
  },
  {
   "cell_type": "markdown",
   "id": "impossible-topic",
   "metadata": {},
   "source": [
    "A.0.4.2 NCI sets the prices for cancer treatments in the US"
   ]
  },
  {
   "cell_type": "code",
   "execution_count": null,
   "id": "abandoned-phenomenon",
   "metadata": {},
   "outputs": [],
   "source": [
    "print()"
   ]
  },
  {
   "cell_type": "markdown",
   "id": "timely-sucking",
   "metadata": {},
   "source": [
    "A.0.4.3 NCI leads efforts in the US to improve cancer treatment and\n",
    "survivorship"
   ]
  },
  {
   "cell_type": "code",
   "execution_count": null,
   "id": "turned-peripheral",
   "metadata": {},
   "outputs": [],
   "source": [
    "print()"
   ]
  },
  {
   "cell_type": "markdown",
   "id": "paperback-cooler",
   "metadata": {},
   "source": [
    "A.0.4.4 Cancer researchers can apply to NCI to receive money to\n",
    "investigate questions about cancer biology"
   ]
  },
  {
   "cell_type": "code",
   "execution_count": null,
   "id": "received-support",
   "metadata": {},
   "outputs": [],
   "source": [
    "print()"
   ]
  },
  {
   "cell_type": "markdown",
   "id": "illegal-auditor",
   "metadata": {},
   "source": [
    "A.0.1.5 Some cancers and their outcomes are not actively researched\n",
    "because of limited resources available to NCI"
   ]
  },
  {
   "cell_type": "code",
   "execution_count": null,
   "id": "joined-package",
   "metadata": {},
   "outputs": [],
   "source": [
    "print()"
   ]
  },
  {
   "cell_type": "markdown",
   "id": "pediatric-vancouver",
   "metadata": {},
   "source": [
    "## Terminology\n",
    "\n",
    "Understanding the language used in a particular field is important for\n",
    "clear and effective communication. Throughout the course you will see a\n",
    "multitude of statistical and medical terms.\n",
    "\n",
    "### Question\n",
    "\n",
    "A.0.5 Print TRUE `print(TRUE)` or FALSE `print(FALSE)` after each\n",
    "statement. You may also print an explanation to your answer (eg\n",
    "`print(\"I think it's true based on information I was able to find on the NCI website\")`)\n",
    "\n",
    "A.0.5 The incidence of breast cancer in a population – for example, the\n",
    "people of the state of Rhode Island – refers to the number of people\n",
    "currently undergoing treatment for breast cancer in that population."
   ]
  },
  {
   "cell_type": "code",
   "execution_count": null,
   "id": "ready-navigation",
   "metadata": {},
   "outputs": [],
   "source": [
    "print()"
   ]
  },
  {
   "cell_type": "markdown",
   "id": "whole-ranch",
   "metadata": {},
   "source": [
    "## Understanding Rates\n",
    "\n",
    "This display is from the Surveillance, Epidemiology and End Results\n",
    "(SEER) program run by NCI.\n",
    "\n",
    "![SEER overview, 2021](images/rateOverview.jpg)\n",
    "\n",
    "### Question\n",
    "\n",
    "A.0.6 According to this diagram, in a random collection of 100000\n",
    "americans in 2018, how many people will die of colon or rectum cancer?\n",
    "\n",
    "### Answer"
   ]
  },
  {
   "cell_type": "code",
   "execution_count": null,
   "id": "animal-crack",
   "metadata": {},
   "outputs": [],
   "source": [
    "print(\"My Answer...\")"
   ]
  },
  {
   "cell_type": "markdown",
   "id": "opposed-hampton",
   "metadata": {},
   "source": [
    "## Visualizing data\n",
    "\n",
    "A histogram is a data visualization that shows the relative frequencies\n",
    "of measured quantities. Below we have a histogram of rates of prostate\n",
    "cancer incidence across a collection of American cities, reported as\n",
    "age-adjusted rates per 100000 males.\n",
    "\n",
    "![Cancer prostate Incidence](images/introhisto.jpg)\n",
    "\n",
    "### Questions\n",
    "\n",
    "A.0.7 What is approximately the highest rate per 100000 men of prostate\n",
    "cancer incidence reported in the cities surveyed?\n",
    "\n",
    "A.0.8 What is approximately the number of cities reporting rates lower\n",
    "than 120 per 100000 men?\n",
    "\n",
    "### Answers"
   ]
  },
  {
   "cell_type": "code",
   "execution_count": null,
   "id": "brilliant-finish",
   "metadata": {},
   "outputs": [],
   "source": [
    "print(\"A.0.7 ...\")\n",
    "\n",
    "print(\"A.0.8 ...\")"
   ]
  },
  {
   "cell_type": "markdown",
   "id": "global-majority",
   "metadata": {},
   "source": [
    "## Interpreting data\n",
    "\n",
    "This figure shows changes in the rate of new kidney cancers compiled by\n",
    "the NCI Surveillance, Epidemiology and End Results program.\n",
    "\n",
    "![Kidney Cancer Rates](images/introseer.jpg)\n",
    "\n",
    "### Question\n",
    "\n",
    "A.0.9 Which of the following could be a likely explanation for the\n",
    "change in rate reports between 2009 and 2010, and why?\n",
    "\n",
    "1.  Improved health\n",
    "\n",
    "2.  data error\n",
    "\n",
    "3.  change in diagnostic procedure and/or definition of kidney/pelvic\n",
    "    cancer incidence\n",
    "\n",
    "### Answer"
   ]
  },
  {
   "cell_type": "code",
   "execution_count": null,
   "id": "adolescent-algebra",
   "metadata": {},
   "outputs": [],
   "source": [
    "print(\"A.0.9 ...\")"
   ]
  }
 ],
 "metadata": {  "kernelspec": {   "display_name": "R",   "language": "R",   "name": "ir"  }},
 "nbformat": 4,
 "nbformat_minor": 5
}
